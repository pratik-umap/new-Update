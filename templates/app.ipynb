{
 "cells": [
  {
   "cell_type": "code",
   "execution_count": 27,
   "id": "d09fcc11",
   "metadata": {},
   "outputs": [],
   "source": [
    "import pickle\n",
    "from flask import Flask, jsonify, request,render_template,Response\n",
    "import requests\n",
    "import warnings\n",
    "warnings.filterwarnings('ignore')"
   ]
  },
  {
   "cell_type": "code",
   "execution_count": 28,
   "id": "ae483caf",
   "metadata": {},
   "outputs": [],
   "source": [
    "data = pickle.load(open(\"../upload/pklfile/test_data_2.pkl\",'rb'))\n",
    "lr   = pickle.load(open('../upload/lgbmmodel.sav','rb'))\n",
    "product_name_dict = pickle.load(open('../upload/pklfile/producIdName.pkl','rb'))  \n",
    "app = Flask(__name__)"
   ]
  },
  {
   "cell_type": "code",
   "execution_count": 29,
   "id": "24d76b4c",
   "metadata": {},
   "outputs": [],
   "source": [
    "@app.route('/')\n",
    "def index():\n",
    "    return render_template('index.html')"
   ]
  },
  {
   "cell_type": "code",
   "execution_count": 30,
   "id": "bdd4da67",
   "metadata": {},
   "outputs": [],
   "source": [
    "@app.route('/login')\n",
    "def login():\n",
    "    return render_template('login.html')"
   ]
  },
  {
   "cell_type": "code",
   "execution_count": 31,
   "id": "54145895",
   "metadata": {},
   "outputs": [],
   "source": [
    "@app.route('/predict', methods=['POST'])\n",
    "def predict():\n",
    "    to_predict_list = [int(x) for x in request.form.values()]\n",
    "    order_number = to_predict_list[0]\n",
    "    data1 = data[data.order_id==order_number]\n",
    "    prediction = lr.predict(data1.drop(['order_id','user_id','product_id'],axis=1))\n",
    "    data1['prediction'] = prediction\n",
    "    data1 = data1[data1.prediction==1]\n",
    "    output = [] \n",
    "    k=0\n",
    "    # // predict add to array\n",
    "    for i in data1.product_id:\n",
    "        if i=='None':\n",
    "            output.append(\"none\")\n",
    "            break\n",
    "        else:\n",
    "            k+=1\n",
    "            product=product_name_dict[i].split()\n",
    "            if(len(product)<=3):\n",
    "                output.append(product_name_dict[i])\n",
    "        if(k==6):\n",
    "            break\n",
    "        # fetching api\n",
    "    api_key = '33171502-91ed4031c1cfc917923c7c5d3'\n",
    "    last_img= []\n",
    "    for k in output:\n",
    "        text=k.split()\n",
    "        last_txt=text[len(text)-1]\n",
    "        url = f'https://pixabay.com/api/?key={api_key}&q={last_txt}&image_type=photo&per_page=10'\n",
    "        response = requests.get(url)\n",
    "        img_data = response.json()\n",
    "        images = [hit['webformatURL'] for hit in img_data['hits']]\n",
    "        if(len(images)!=0):\n",
    "            last_img.append(images[2])   \n",
    "\n",
    "        items = []\n",
    "        for i in range(len(last_img)):\n",
    "            item = {'image': last_img[i], 'name': output[i]}\n",
    "            items.append(item)\n",
    "\n",
    "            \n",
    "    if len(output)<=0:\n",
    "        return Response(render_template('output.html',data=['Banana','Dairy Milk','Carrot']))\n",
    "    else:\n",
    "        return Response(render_template('output.html',items=items))"
   ]
  },
  {
   "cell_type": "code",
   "execution_count": 32,
   "id": "9b6a8424",
   "metadata": {
    "scrolled": true
   },
   "outputs": [
    {
     "name": "stdout",
     "output_type": "stream",
     "text": [
      " * Serving Flask app \"__main__\" (lazy loading)\n",
      " * Environment: production\n",
      "\u001b[31m   WARNING: This is a development server. Do not use it in a production deployment.\u001b[0m\n",
      "\u001b[2m   Use a production WSGI server instead.\u001b[0m\n",
      " * Debug mode: off\n"
     ]
    },
    {
     "name": "stderr",
     "output_type": "stream",
     "text": [
      " * Running on all addresses.\n",
      "   WARNING: This is a development server. Do not use it in a production deployment.\n",
      " * Running on http://192.168.43.26:8080/ (Press CTRL+C to quit)\n",
      "192.168.43.26 - - [19/Feb/2023 20:09:59] \"GET /login HTTP/1.1\" 200 -\n",
      "192.168.43.26 - - [19/Feb/2023 20:10:31] \"POST /predict HTTP/1.1\" 200 -\n"
     ]
    }
   ],
   "source": [
    "if __name__ == '__main__':\n",
    "    #app.debug = True\n",
    "    app.run(host='0.0.0.0', port=8080)"
   ]
  },
  {
   "cell_type": "code",
   "execution_count": null,
   "id": "fe169d18",
   "metadata": {},
   "outputs": [],
   "source": []
  }
 ],
 "metadata": {
  "kernelspec": {
   "display_name": "Python 3 (ipykernel)",
   "language": "python",
   "name": "python3"
  },
  "language_info": {
   "codemirror_mode": {
    "name": "ipython",
    "version": 3
   },
   "file_extension": ".py",
   "mimetype": "text/x-python",
   "name": "python",
   "nbconvert_exporter": "python",
   "pygments_lexer": "ipython3",
   "version": "3.9.13"
  },
  "vscode": {
   "interpreter": {
    "hash": "ad2bdc8ecc057115af97d19610ffacc2b4e99fae6737bb82f5d7fb13d2f2c186"
   }
  }
 },
 "nbformat": 4,
 "nbformat_minor": 5
}
